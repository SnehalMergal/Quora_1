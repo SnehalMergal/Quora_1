{
  "nbformat": 4,
  "nbformat_minor": 0,
  "metadata": {
    "colab": {
      "provenance": [],
      "authorship_tag": "ABX9TyMADCbBbZg6VVXjUKRj1ZGB",
      "include_colab_link": true
    },
    "kernelspec": {
      "name": "python3",
      "display_name": "Python 3"
    },
    "language_info": {
      "name": "python"
    }
  },
  "cells": [
    {
      "cell_type": "markdown",
      "metadata": {
        "id": "view-in-github",
        "colab_type": "text"
      },
      "source": [
        "<a href=\"https://colab.research.google.com/github/SnehalMergal/Quora_1/blob/main/All_python_interview_Codes.ipynb\" target=\"_parent\"><img src=\"https://colab.research.google.com/assets/colab-badge.svg\" alt=\"Open In Colab\"/></a>"
      ]
    },
    {
      "cell_type": "markdown",
      "source": [
        "##String Palindrome using 4 ways \n",
        "1.Slicing\n",
        "2.for loop\n",
        "3.While loop\n",
        "4.Inbuilt functions - join and reversed "
      ],
      "metadata": {
        "id": "4PtPepKdcJ9j"
      }
    },
    {
      "cell_type": "code",
      "source": [
        "def palindrome(s):\n",
        "  rev=s[::-1]\n",
        "  if rev==s:\n",
        "    return True\n",
        "  else:\n",
        "    return False\n",
        "\n",
        "s=\"MasaM\"\n",
        "palindrome(s)"
      ],
      "metadata": {
        "colab": {
          "base_uri": "https://localhost:8080/"
        },
        "id": "OU150j6ncLNX",
        "outputId": "00e76564-0d29-4609-80fe-4639e8acb88b"
      },
      "execution_count": null,
      "outputs": [
        {
          "output_type": "execute_result",
          "data": {
            "text/plain": [
              "True"
            ]
          },
          "metadata": {},
          "execution_count": 3
        }
      ]
    },
    {
      "cell_type": "code",
      "source": [
        "def fpalindrome(s):\n",
        "  n=len(s)\n",
        "  for i in range(n):\n",
        "    if s[i]!=s[n-i-1]:\n",
        "      return False\n",
        "    else:\n",
        "      return True\n",
        "\n",
        "s=\"MadaM\"\n",
        "fpalindrome(s)"
      ],
      "metadata": {
        "colab": {
          "base_uri": "https://localhost:8080/"
        },
        "id": "QYrRTy08cvrJ",
        "outputId": "f075334f-c560-4b2d-9a46-b80549944dd0"
      },
      "execution_count": null,
      "outputs": [
        {
          "output_type": "execute_result",
          "data": {
            "text/plain": [
              "True"
            ]
          },
          "metadata": {},
          "execution_count": 5
        }
      ]
    },
    {
      "cell_type": "code",
      "source": [
        "def wpalindrome(s):\n",
        "  n=len(s)\n",
        "  first=0\n",
        "  last=n-1\n",
        "  while(first<last):\n",
        "    if s[first] == s[last]:\n",
        "      first+=1\n",
        "      last-=1\n",
        "      return True\n",
        "    else:\n",
        "      return False\n",
        "\n",
        "s=\"MadaMa\"\n",
        "wpalindrome(s)\n",
        "    "
      ],
      "metadata": {
        "colab": {
          "base_uri": "https://localhost:8080/"
        },
        "id": "xQ3ogL8-dasE",
        "outputId": "0f9f6748-eaaa-421d-e90b-61dc5d9e22b2"
      },
      "execution_count": null,
      "outputs": [
        {
          "output_type": "execute_result",
          "data": {
            "text/plain": [
              "False"
            ]
          },
          "metadata": {},
          "execution_count": 7
        }
      ]
    },
    {
      "cell_type": "code",
      "source": [
        "def jpalindrome(s):\n",
        "  rev=''.join(reversed(s))\n",
        "  if rev==s:\n",
        "    return True\n",
        "  else:\n",
        "    return False\n",
        "\n",
        "s=\"MadMm\"\n",
        "jpalindrome(s)"
      ],
      "metadata": {
        "colab": {
          "base_uri": "https://localhost:8080/"
        },
        "id": "xaI48a9KeNU-",
        "outputId": "b5d1c99e-9dfe-4a95-f1d8-bca5f0d6575d"
      },
      "execution_count": null,
      "outputs": [
        {
          "output_type": "execute_result",
          "data": {
            "text/plain": [
              "False"
            ]
          },
          "metadata": {},
          "execution_count": 9
        }
      ]
    },
    {
      "cell_type": "markdown",
      "source": [
        "##Palindrome of a number\n",
        "2 ways\n",
        "1.While \n",
        "2.Converting in a string (not recommended)"
      ],
      "metadata": {
        "id": "22XoWkIReutn"
      }
    },
    {
      "cell_type": "code",
      "source": [
        "def npalindrome(num):\n",
        "  temp = num\n",
        "  rev=0\n",
        "  digit=0\n",
        "  while (num>0):\n",
        "    digit=num%10\n",
        "    rev=rev *10 + digit\n",
        "    num=num//10\n",
        "  print(rev)\n",
        "  if temp==rev:\n",
        "    return True\n",
        "  else:\n",
        "    return False\n",
        "\n",
        "num=12321\n",
        "npalindrome(num)\n"
      ],
      "metadata": {
        "colab": {
          "base_uri": "https://localhost:8080/"
        },
        "id": "ss_sb2n2ejIA",
        "outputId": "b3f5e6c5-6252-4fae-acdf-01534cd4ef9d"
      },
      "execution_count": null,
      "outputs": [
        {
          "output_type": "stream",
          "name": "stdout",
          "text": [
            "12321\n"
          ]
        },
        {
          "output_type": "execute_result",
          "data": {
            "text/plain": [
              "True"
            ]
          },
          "metadata": {},
          "execution_count": 17
        }
      ]
    },
    {
      "cell_type": "code",
      "source": [
        "num=123454321\n",
        "n=str(num)\n",
        "rev=n[::-1]\n",
        "if n==rev:\n",
        "  print(\"true\")\n",
        "else:\n",
        "  print(\"false\")"
      ],
      "metadata": {
        "colab": {
          "base_uri": "https://localhost:8080/"
        },
        "id": "W5SuXQN_j1eq",
        "outputId": "db004536-9c56-431f-dc12-479afcce1993"
      },
      "execution_count": null,
      "outputs": [
        {
          "output_type": "stream",
          "name": "stdout",
          "text": [
            "true\n"
          ]
        }
      ]
    },
    {
      "cell_type": "markdown",
      "source": [
        "##Fibonacci Series\n",
        "1.while loop\n",
        "2.for loop\n",
        "2.Recursion"
      ],
      "metadata": {
        "id": "-p75gXffk8mO"
      }
    },
    {
      "cell_type": "code",
      "source": [
        "def wfibonacci(n):\n",
        "  a=0\n",
        "  b=1\n",
        "  cnt=0\n",
        "  print(a)\n",
        "  while(cnt<n):\n",
        "    print(b)\n",
        "    a,b=b,a+b\n",
        "    cnt+=1\n",
        "\n",
        "n=8\n",
        "wfibonacci(n)\n",
        "\n"
      ],
      "metadata": {
        "colab": {
          "base_uri": "https://localhost:8080/"
        },
        "id": "2EYfU5f-kI6F",
        "outputId": "2eebc652-b90e-4182-98bb-ac12c313b513"
      },
      "execution_count": null,
      "outputs": [
        {
          "output_type": "stream",
          "name": "stdout",
          "text": [
            "0\n",
            "1\n",
            "1\n",
            "2\n",
            "3\n",
            "5\n",
            "8\n",
            "13\n",
            "21\n"
          ]
        }
      ]
    },
    {
      "cell_type": "code",
      "source": [
        "def ffibonacci(n):\n",
        "  a=0\n",
        "  b=1\n",
        "  if n==1:\n",
        "    print(a)\n",
        "  else:\n",
        "    print(a)\n",
        "    print(b)\n",
        "  for i in range(2,n):\n",
        "    c=a+b\n",
        "    a=b\n",
        "    b=c\n",
        "    print(c)\n",
        "n=10\n",
        "ffibonacci(n)\n",
        "\n"
      ],
      "metadata": {
        "colab": {
          "base_uri": "https://localhost:8080/"
        },
        "id": "_48ljVFiln80",
        "outputId": "5aaf770f-6058-406b-8cd0-bc5d6707a1e1"
      },
      "execution_count": null,
      "outputs": [
        {
          "output_type": "stream",
          "name": "stdout",
          "text": [
            "0\n",
            "1\n",
            "1\n",
            "2\n",
            "3\n",
            "5\n",
            "8\n",
            "13\n",
            "21\n",
            "34\n"
          ]
        }
      ]
    },
    {
      "cell_type": "code",
      "source": [
        "def rfibonacci(n):\n",
        "  if n==0 :\n",
        "    return 0\n",
        "  if n==1 or n==2:\n",
        "    return 1\n",
        "  else:\n",
        "    return rfibonacci(n-1) + rfibonacci(n-2)\n",
        "n=8\n",
        "rfibonacci(n)"
      ],
      "metadata": {
        "colab": {
          "base_uri": "https://localhost:8080/"
        },
        "id": "rMZVE91lmeNN",
        "outputId": "26d85084-cfde-43d6-ac1f-a523da10f3c4"
      },
      "execution_count": null,
      "outputs": [
        {
          "output_type": "execute_result",
          "data": {
            "text/plain": [
              "21"
            ]
          },
          "metadata": {},
          "execution_count": 29
        }
      ]
    },
    {
      "cell_type": "markdown",
      "source": [
        "##String occurances\n",
        "1.number of occurance \n",
        "2.certain character \n",
        "3."
      ],
      "metadata": {
        "id": "AYYo6VNJnboS"
      }
    },
    {
      "cell_type": "code",
      "source": [
        "def compress(s):\n",
        "  cnt =1\n",
        "  n=len(s)\n",
        "  ch=''\n",
        "  for i in range(n-1):\n",
        "    if s[i]==s[i+1]:\n",
        "      cnt+=1\n",
        "    else:\n",
        "      ch=ch+s[i]+str(cnt)\n",
        "      cnt=1\n",
        "  ch=ch + s[n-1] +str(cnt)\n",
        "  return ch\n",
        "\n",
        "s=\"aabbccdddeeeiii\"\n",
        "compress(s)\n",
        "\n",
        "\n"
      ],
      "metadata": {
        "colab": {
          "base_uri": "https://localhost:8080/",
          "height": 36
        },
        "id": "xAk8k6-9nZOX",
        "outputId": "8b0d5f1c-0588-4057-d21c-46612e47edc2"
      },
      "execution_count": null,
      "outputs": [
        {
          "output_type": "execute_result",
          "data": {
            "text/plain": [
              "'a2b2c2d3e3i3'"
            ],
            "application/vnd.google.colaboratory.intrinsic+json": {
              "type": "string"
            }
          },
          "metadata": {},
          "execution_count": 36
        }
      ]
    },
    {
      "cell_type": "code",
      "source": [
        "def occurance(n):\n",
        "  a=len(n)\n",
        "  cnt=1\n",
        "  rev=''\n",
        "  for i in range(a-1):\n",
        "    if n[i]==n[i+1]:\n",
        "      cnt+=1\n",
        "    else:\n",
        "      rev+=n[i]+str(cnt)\n",
        "      cnt=1\n",
        "  rev+=n[a-1]+str(cnt)\n",
        "  return rev\n",
        "\n",
        "n=\"hhddkkssss\"\n",
        "occurance(n)"
      ],
      "metadata": {
        "colab": {
          "base_uri": "https://localhost:8080/",
          "height": 36
        },
        "id": "4kyS4pyz366t",
        "outputId": "40e18eea-9cb4-4a0e-f2d2-8e285685c29e"
      },
      "execution_count": null,
      "outputs": [
        {
          "output_type": "execute_result",
          "data": {
            "text/plain": [
              "'h2d2k2s4'"
            ],
            "application/vnd.google.colaboratory.intrinsic+json": {
              "type": "string"
            }
          },
          "metadata": {},
          "execution_count": 56
        }
      ]
    },
    {
      "cell_type": "code",
      "source": [
        "def woccurance(s):\n",
        "  n=len(s)\n",
        "  i=0\n",
        "  res=''\n",
        "  cnt=1\n",
        "  while(i<n-1):\n",
        "    while(s[i]==s[i+1] cnt+=1):\n",
        "      i+=1\n",
        "      \n",
        "  i+=1\n",
        "\n",
        "    "
      ],
      "metadata": {
        "id": "NIHf0e6b4xTt"
      },
      "execution_count": null,
      "outputs": []
    },
    {
      "cell_type": "markdown",
      "source": [
        "##FizzBuzz Problem"
      ],
      "metadata": {
        "id": "1V2n_F_4WDZ0"
      }
    },
    {
      "cell_type": "code",
      "source": [
        "def fizbuz(n):\n",
        "  for i in range(1,n+1):\n",
        "    if  i%5==0 and i%3==0:\n",
        "      print(\"FizzBuzz\")\n",
        "    elif i%5==0:\n",
        "      print(\"Buzz\")\n",
        "    elif i%3==0:\n",
        "      print(\"Fizz\")\n",
        "    else:\n",
        "      print(i)\n",
        "\n",
        "fizbuz(16)"
      ],
      "metadata": {
        "colab": {
          "base_uri": "https://localhost:8080/"
        },
        "id": "c11Bqn8MWGBO",
        "outputId": "b4fb2547-fd53-4fe2-e3fb-2a8ea1a29d69"
      },
      "execution_count": null,
      "outputs": [
        {
          "output_type": "stream",
          "name": "stdout",
          "text": [
            "1\n",
            "2\n",
            "Fizz\n",
            "4\n",
            "Buzz\n",
            "Fizz\n",
            "7\n",
            "8\n",
            "Fizz\n",
            "Buzz\n",
            "11\n",
            "Fizz\n",
            "13\n",
            "14\n",
            "FizzBuzz\n",
            "16\n"
          ]
        }
      ]
    },
    {
      "cell_type": "code",
      "source": [
        "def fiz(n):\n",
        "  d={3:'fizz' , 5:'Buzz'}\n",
        "  for i in range(1,n+1):\n",
        "    res=''\n",
        "    for k,v in d.items():\n",
        "      if i%k==0:\n",
        "        res=res+v\n",
        "    if not res:\n",
        "        res=i\n",
        "    print(res)\n",
        "\n",
        "fiz(15)\n",
        "    \n"
      ],
      "metadata": {
        "colab": {
          "base_uri": "https://localhost:8080/"
        },
        "id": "XspbgU77Wdm6",
        "outputId": "b178f7c3-df9f-4095-a9ae-b792c3ee7e8b"
      },
      "execution_count": null,
      "outputs": [
        {
          "output_type": "stream",
          "name": "stdout",
          "text": [
            "1\n",
            "2\n",
            "fizz\n",
            "4\n",
            "Buzz\n",
            "fizz\n",
            "7\n",
            "8\n",
            "fizz\n",
            "Buzz\n",
            "11\n",
            "fizz\n",
            "13\n",
            "14\n",
            "fizzBuzz\n"
          ]
        }
      ]
    },
    {
      "cell_type": "markdown",
      "source": [
        "##Decorator In python"
      ],
      "metadata": {
        "id": "UJch1RrdZHqs"
      }
    },
    {
      "cell_type": "code",
      "source": [
        "def div(n1,n2):\n",
        "  print(n1/n2)\n",
        "\n",
        "def new_div(func):\n",
        "  def div1(a,b):\n",
        "    if a < b:\n",
        "      a,b=b,a\n",
        "    else:\n",
        "      a,b=a,b\n",
        "    return func(a,b)\n",
        "  return div1\n",
        "\n",
        "div2=new_div(div)\n",
        "\n",
        "div(12,6)\n",
        "div2(2,4)"
      ],
      "metadata": {
        "colab": {
          "base_uri": "https://localhost:8080/"
        },
        "id": "dgg1b-MGZKFF",
        "outputId": "e70bbec8-bf56-43e4-af0a-42e133a6144d"
      },
      "execution_count": null,
      "outputs": [
        {
          "output_type": "stream",
          "name": "stdout",
          "text": [
            "2.0\n",
            "2.0\n"
          ]
        }
      ]
    },
    {
      "cell_type": "markdown",
      "source": [
        "##Least occurance in string of a character"
      ],
      "metadata": {
        "id": "G42vdmWRjSV7"
      }
    },
    {
      "cell_type": "code",
      "source": [
        "def least(s):\n",
        "  ch={}\n",
        "  for i in s:\n",
        "    if i in ch:\n",
        "      ch[i]=ch[i]+1\n",
        "    else:\n",
        "      ch[i]=1\n",
        "  print(ch)\n",
        "  res=min(ch, key=ch.get)\n",
        "  print(res)\n",
        "\n",
        "s=\"ssnneehhaallli\"\n",
        "least(s)\n"
      ],
      "metadata": {
        "colab": {
          "base_uri": "https://localhost:8080/"
        },
        "id": "ALPZ-q3WgfB1",
        "outputId": "f656c36b-b0c5-4c7c-b166-5b9215f240a7"
      },
      "execution_count": null,
      "outputs": [
        {
          "output_type": "stream",
          "name": "stdout",
          "text": [
            "{'s': 2, 'n': 2, 'e': 2, 'h': 2, 'a': 2, 'l': 3, 'i': 1}\n",
            "i\n"
          ]
        }
      ]
    },
    {
      "cell_type": "markdown",
      "source": [
        "Occurance of a given element"
      ],
      "metadata": {
        "id": "kjqfqT5Tb7SR"
      }
    },
    {
      "cell_type": "code",
      "source": [
        "def least(s,search_ele):\n",
        "  ch={}\n",
        "  for i in s:\n",
        "    if i in ch:\n",
        "      ch[i]=ch[i]+1\n",
        "    else:\n",
        "      ch[i]=1\n",
        "  print(ch)\n",
        "  #print(ch[search_ele])\n",
        "  res=min(ch, key=ch.get)\n",
        "  print(res)\n",
        "  try :\n",
        "    print(ch[search_ele])\n",
        "  except:\n",
        "   print(0)\n",
        "\n",
        "\n",
        "s=\"ssnneehhaallli\"\n",
        "least(s,'e')\n"
      ],
      "metadata": {
        "colab": {
          "base_uri": "https://localhost:8080/"
        },
        "id": "8lkQtf83a1d4",
        "outputId": "0677b9e7-0f59-4773-a5fc-25a3b9d8d5ee"
      },
      "execution_count": null,
      "outputs": [
        {
          "output_type": "stream",
          "name": "stdout",
          "text": [
            "{'s': 2, 'n': 2, 'e': 2, 'h': 2, 'a': 2, 'l': 3, 'i': 1}\n",
            "i\n",
            "2\n"
          ]
        }
      ]
    },
    {
      "cell_type": "markdown",
      "source": [
        "##Prime numbers"
      ],
      "metadata": {
        "id": "Ow-rKsQ3c0Zz"
      }
    },
    {
      "cell_type": "code",
      "source": [
        "def prime(n):\n",
        "  flag=False\n",
        "  if n>1:\n",
        "    for i in range(2,n//2+1):\n",
        "      if n%i==0:\n",
        "        flag=True\n",
        "        break\n",
        "    if flag:\n",
        "      print(\"Not prime\")\n",
        "    else:\n",
        "      print(\"prime\")\n",
        "  \n",
        "prime(22)\n"
      ],
      "metadata": {
        "colab": {
          "base_uri": "https://localhost:8080/"
        },
        "id": "A3YZZMQOczjl",
        "outputId": "e17a2bd4-6984-4645-c154-098132346d28"
      },
      "execution_count": null,
      "outputs": [
        {
          "output_type": "stream",
          "name": "stdout",
          "text": [
            "Not prime\n"
          ]
        }
      ]
    },
    {
      "cell_type": "code",
      "source": [
        "def prime2(n):\n",
        "  if n>1:\n",
        "    for i in range(2,n//2+1):\n",
        "      if n%i==0:\n",
        "        print(\"not prime\")\n",
        "        break\n",
        "    else :\n",
        "      print(\"prime\")\n",
        "  else :\n",
        "      print(\"Not prime\")\n",
        "  \n",
        "prime2(22)"
      ],
      "metadata": {
        "colab": {
          "base_uri": "https://localhost:8080/"
        },
        "id": "C-FAhW6eg6MY",
        "outputId": "e709e134-a795-4b2b-f298-679ad9e3a07a"
      },
      "execution_count": null,
      "outputs": [
        {
          "output_type": "stream",
          "name": "stdout",
          "text": [
            "not prime\n"
          ]
        }
      ]
    },
    {
      "cell_type": "code",
      "source": [
        "def range_prime(start,end):\n",
        "    for n in range(start,end):\n",
        "      if n>1:\n",
        "        for i in range(2,n//2+1):\n",
        "          if n%i==0:\n",
        "            break\n",
        "        else:\n",
        "          print(n)\n",
        "\n",
        "range_prime(1,20)"
      ],
      "metadata": {
        "colab": {
          "base_uri": "https://localhost:8080/"
        },
        "id": "W5OHBVRRcJHo",
        "outputId": "cc5ba814-5a59-4250-9ded-4ba425646856"
      },
      "execution_count": null,
      "outputs": [
        {
          "output_type": "stream",
          "name": "stdout",
          "text": [
            "2\n",
            "3\n",
            "5\n",
            "7\n",
            "11\n",
            "13\n",
            "17\n",
            "19\n"
          ]
        }
      ]
    },
    {
      "cell_type": "markdown",
      "source": [
        "##String manipulation"
      ],
      "metadata": {
        "id": "UAEG3MCJjoPw"
      }
    },
    {
      "cell_type": "code",
      "source": [
        "#input=I_am_having_GOOD_DaY\n",
        "#output=\n",
        "\n",
        "def String_manipulation(s):\n",
        "  temp=s.split('_')\n",
        "  l=[]\n",
        "  for i in temp:\n",
        "    l.append(i[0].lower()+i[1:].upper())\n",
        "  res='.'.join(l)\n",
        "  return res\n",
        "s=\"I_am_having_GOOD_DaY\"\n",
        "String_manipulation(s)\n"
      ],
      "metadata": {
        "colab": {
          "base_uri": "https://localhost:8080/",
          "height": 36
        },
        "id": "ajjVtjxEjnl9",
        "outputId": "a94e8feb-0e00-45e8-c304-7767f06e8ca0"
      },
      "execution_count": null,
      "outputs": [
        {
          "output_type": "execute_result",
          "data": {
            "text/plain": [
              "'i.aM.hAVING.gOOD.dAY'"
            ],
            "application/vnd.google.colaboratory.intrinsic+json": {
              "type": "string"
            }
          },
          "metadata": {},
          "execution_count": 55
        }
      ]
    },
    {
      "cell_type": "code",
      "source": [
        "def String_manipulation1(s):\n",
        "  temp=s.split('_')\n",
        "  res=''\n",
        "  for i in temp:\n",
        "    res = res+ i[0].lower()+i[1:].upper()+(\".\")\n",
        "  res = res+ i[0].lower()+i[1:].upper()\n",
        "  return res\n",
        "s=\"I_am_having_GOOD_DaY\"\n",
        "String_manipulation1(s)"
      ],
      "metadata": {
        "colab": {
          "base_uri": "https://localhost:8080/",
          "height": 36
        },
        "id": "U_iYIYwsfboJ",
        "outputId": "1c596105-30e9-476c-ebee-4b54d26d2c3c"
      },
      "execution_count": null,
      "outputs": [
        {
          "output_type": "execute_result",
          "data": {
            "text/plain": [
              "'i.aM.hAVING.gOOD.dAY.dAY'"
            ],
            "application/vnd.google.colaboratory.intrinsic+json": {
              "type": "string"
            }
          },
          "metadata": {},
          "execution_count": 58
        }
      ]
    },
    {
      "cell_type": "markdown",
      "source": [
        "##SecondHighestNumber"
      ],
      "metadata": {
        "id": "9RYeQb9NpYzX"
      }
    },
    {
      "cell_type": "code",
      "source": [],
      "metadata": {
        "id": "_Gnr09vjpOAP"
      },
      "execution_count": null,
      "outputs": []
    },
    {
      "cell_type": "markdown",
      "source": [
        "##Armstrong Number"
      ],
      "metadata": {
        "id": "6rELO3jRpcS6"
      }
    },
    {
      "cell_type": "code",
      "source": [
        "list1=[[13,4,2,4],[4,6,7,[88,9,0,1],7],[99,101]]\n",
        "list1[1][3][0]=75\n",
        "list1[1][3].insert(5,88)\n",
        "print(list1)\n"
      ],
      "metadata": {
        "id": "J8wOAd8epfMQ",
        "colab": {
          "base_uri": "https://localhost:8080/"
        },
        "outputId": "2e58723c-423d-423d-96d3-c7e52d878a2b"
      },
      "execution_count": 18,
      "outputs": [
        {
          "output_type": "stream",
          "name": "stdout",
          "text": [
            "[[13, 4, 2, 4], [4, 6, 7, [75, 9, 0, 1, 88], 7], [99, 101]]\n"
          ]
        }
      ]
    },
    {
      "cell_type": "code",
      "source": [
        "salaries = [{\n",
        "\n",
        "  \"rajesh\": { \"salary\": 1000 },\n",
        "\n",
        "  \"harish\": { \"salary\": 2000 },\n",
        "\n",
        "  \"mayur\": { \"salary\": 3000 }\n",
        "\n",
        "}]\n",
        "\n",
        "for employees in salaries:\n",
        "  for employee in employees:\n",
        "    employees[employee]['salary'] = int(\n",
        "      (employees[employee]['salary'] * 110) / 100)\n",
        "print(salaries)\n",
        "\n",
        "\n",
        "\n",
        "\n",
        "\n",
        "\n"
      ],
      "metadata": {
        "id": "mr2WIsamdl0u",
        "colab": {
          "base_uri": "https://localhost:8080/"
        },
        "outputId": "bace80c0-3988-4e04-8b48-847fa7c7f605"
      },
      "execution_count": 19,
      "outputs": [
        {
          "output_type": "stream",
          "name": "stdout",
          "text": [
            "[{'rajesh': {'salary': 1100}, 'harish': {'salary': 2200}, 'mayur': {'salary': 3300}}]\n"
          ]
        }
      ]
    },
    {
      "cell_type": "code",
      "source": [
        "dict1={ 'rajesh': {'salary':1100},'harish': { 'salary':2200},'mayur': { 'salary':3300}}\n",
        "sum=0\n",
        "for k,v in dict1.items():\n",
        "  print(k)\n",
        "  if v and 'salary' in v.keys():\n",
        "    sum+=v['salary']\n",
        "\n",
        "print(sum//len(dict1))\n",
        "    "
      ],
      "metadata": {
        "id": "oqVvzMjwDgdw",
        "colab": {
          "base_uri": "https://localhost:8080/"
        },
        "outputId": "042e5625-ad27-4b4b-81f7-2ad31ed8f9d2"
      },
      "execution_count": 41,
      "outputs": [
        {
          "output_type": "stream",
          "name": "stdout",
          "text": [
            "rajesh\n",
            "harish\n",
            "mayur\n",
            "2200\n"
          ]
        }
      ]
    },
    {
      "cell_type": "code",
      "source": [
        "list2=[45,76,55,4,3,2,1]\n",
        "max_ele=0\n",
        "for i in list2:\n",
        "  if max_ele<i:\n",
        "    max_ele=i\n",
        "print(max_ele)\n"
      ],
      "metadata": {
        "colab": {
          "base_uri": "https://localhost:8080/"
        },
        "id": "lK0qrcRquP1z",
        "outputId": "38a844f8-95f6-4bfc-cd9f-836b8a1a50dc"
      },
      "execution_count": 11,
      "outputs": [
        {
          "output_type": "stream",
          "name": "stdout",
          "text": [
            "76\n"
          ]
        }
      ]
    },
    {
      "cell_type": "code",
      "source": [
        "list2=[45,76,55,4,3,2,1,55,76,1,2]\n",
        "list3=[]\n",
        "for i in list2:\n",
        "  if i not in list3:\n",
        "    list3.append(i)\n",
        "\n",
        "print(list3)\n"
      ],
      "metadata": {
        "colab": {
          "base_uri": "https://localhost:8080/"
        },
        "id": "I-nIcRoz76bV",
        "outputId": "8d67ca80-8882-445e-b08a-7e2c23f9ab00"
      },
      "execution_count": 17,
      "outputs": [
        {
          "output_type": "stream",
          "name": "stdout",
          "text": [
            "[45, 76, 55, 4, 3, 2, 1]\n"
          ]
        }
      ]
    },
    {
      "cell_type": "code",
      "source": [],
      "metadata": {
        "id": "Oxk1txAFEp5h"
      },
      "execution_count": null,
      "outputs": []
    }
  ]
}